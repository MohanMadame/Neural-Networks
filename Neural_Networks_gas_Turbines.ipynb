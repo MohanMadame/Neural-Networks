{
  "nbformat": 4,
  "nbformat_minor": 0,
  "metadata": {
    "colab": {
      "name": "Neural Networks gas Turbines",
      "provenance": [],
      "collapsed_sections": []
    },
    "kernelspec": {
      "name": "python3",
      "display_name": "Python 3"
    },
    "language_info": {
      "name": "python"
    }
  },
  "cells": [
    {
      "cell_type": "code",
      "metadata": {
        "id": "aYLRMjYiypct"
      },
      "source": [
        "import pandas as pd\n",
        "import numpy as np \n",
        "from keras.layers import Dense\n",
        "from keras.models import Sequential\n",
        "\n",
        "from sklearn.preprocessing import StandardScaler\n",
        "\n",
        "from sklearn.model_selection import GridSearchCV,KFold\n",
        "from keras.wrappers.scikit_learn import KerasRegressor  \n",
        "from tensorflow.keras.optimizers import Adam"
      ],
      "execution_count": 36,
      "outputs": []
    },
    {
      "cell_type": "code",
      "metadata": {
        "id": "Lsk63n1r4s53"
      },
      "source": [
        "data=pd.read_csv(\"/content/gas_turbines.csv\")"
      ],
      "execution_count": 2,
      "outputs": []
    },
    {
      "cell_type": "code",
      "metadata": {
        "colab": {
          "base_uri": "https://localhost:8080/",
          "height": 204
        },
        "id": "MX-mng4Q45DL",
        "outputId": "0266bad4-c4cb-484c-9a66-8d409626b70b"
      },
      "source": [
        "data.head()"
      ],
      "execution_count": 3,
      "outputs": [
        {
          "output_type": "execute_result",
          "data": {
            "text/html": [
              "<div>\n",
              "<style scoped>\n",
              "    .dataframe tbody tr th:only-of-type {\n",
              "        vertical-align: middle;\n",
              "    }\n",
              "\n",
              "    .dataframe tbody tr th {\n",
              "        vertical-align: top;\n",
              "    }\n",
              "\n",
              "    .dataframe thead th {\n",
              "        text-align: right;\n",
              "    }\n",
              "</style>\n",
              "<table border=\"1\" class=\"dataframe\">\n",
              "  <thead>\n",
              "    <tr style=\"text-align: right;\">\n",
              "      <th></th>\n",
              "      <th>AT</th>\n",
              "      <th>AP</th>\n",
              "      <th>AH</th>\n",
              "      <th>AFDP</th>\n",
              "      <th>GTEP</th>\n",
              "      <th>TIT</th>\n",
              "      <th>TAT</th>\n",
              "      <th>TEY</th>\n",
              "      <th>CDP</th>\n",
              "      <th>CO</th>\n",
              "      <th>NOX</th>\n",
              "    </tr>\n",
              "  </thead>\n",
              "  <tbody>\n",
              "    <tr>\n",
              "      <th>0</th>\n",
              "      <td>6.8594</td>\n",
              "      <td>1007.9</td>\n",
              "      <td>96.799</td>\n",
              "      <td>3.5000</td>\n",
              "      <td>19.663</td>\n",
              "      <td>1059.2</td>\n",
              "      <td>550.00</td>\n",
              "      <td>114.70</td>\n",
              "      <td>10.605</td>\n",
              "      <td>3.1547</td>\n",
              "      <td>82.722</td>\n",
              "    </tr>\n",
              "    <tr>\n",
              "      <th>1</th>\n",
              "      <td>6.7850</td>\n",
              "      <td>1008.4</td>\n",
              "      <td>97.118</td>\n",
              "      <td>3.4998</td>\n",
              "      <td>19.728</td>\n",
              "      <td>1059.3</td>\n",
              "      <td>550.00</td>\n",
              "      <td>114.72</td>\n",
              "      <td>10.598</td>\n",
              "      <td>3.2363</td>\n",
              "      <td>82.776</td>\n",
              "    </tr>\n",
              "    <tr>\n",
              "      <th>2</th>\n",
              "      <td>6.8977</td>\n",
              "      <td>1008.8</td>\n",
              "      <td>95.939</td>\n",
              "      <td>3.4824</td>\n",
              "      <td>19.779</td>\n",
              "      <td>1059.4</td>\n",
              "      <td>549.87</td>\n",
              "      <td>114.71</td>\n",
              "      <td>10.601</td>\n",
              "      <td>3.2012</td>\n",
              "      <td>82.468</td>\n",
              "    </tr>\n",
              "    <tr>\n",
              "      <th>3</th>\n",
              "      <td>7.0569</td>\n",
              "      <td>1009.2</td>\n",
              "      <td>95.249</td>\n",
              "      <td>3.4805</td>\n",
              "      <td>19.792</td>\n",
              "      <td>1059.6</td>\n",
              "      <td>549.99</td>\n",
              "      <td>114.72</td>\n",
              "      <td>10.606</td>\n",
              "      <td>3.1923</td>\n",
              "      <td>82.670</td>\n",
              "    </tr>\n",
              "    <tr>\n",
              "      <th>4</th>\n",
              "      <td>7.3978</td>\n",
              "      <td>1009.7</td>\n",
              "      <td>95.150</td>\n",
              "      <td>3.4976</td>\n",
              "      <td>19.765</td>\n",
              "      <td>1059.7</td>\n",
              "      <td>549.98</td>\n",
              "      <td>114.72</td>\n",
              "      <td>10.612</td>\n",
              "      <td>3.2484</td>\n",
              "      <td>82.311</td>\n",
              "    </tr>\n",
              "  </tbody>\n",
              "</table>\n",
              "</div>"
            ],
            "text/plain": [
              "       AT      AP      AH    AFDP  ...     TEY     CDP      CO     NOX\n",
              "0  6.8594  1007.9  96.799  3.5000  ...  114.70  10.605  3.1547  82.722\n",
              "1  6.7850  1008.4  97.118  3.4998  ...  114.72  10.598  3.2363  82.776\n",
              "2  6.8977  1008.8  95.939  3.4824  ...  114.71  10.601  3.2012  82.468\n",
              "3  7.0569  1009.2  95.249  3.4805  ...  114.72  10.606  3.1923  82.670\n",
              "4  7.3978  1009.7  95.150  3.4976  ...  114.72  10.612  3.2484  82.311\n",
              "\n",
              "[5 rows x 11 columns]"
            ]
          },
          "metadata": {},
          "execution_count": 3
        }
      ]
    },
    {
      "cell_type": "code",
      "metadata": {
        "colab": {
          "base_uri": "https://localhost:8080/",
          "height": 419
        },
        "id": "VW_CLIUK47QY",
        "outputId": "89c031d0-4da9-41c1-cf57-81d6d394e748"
      },
      "source": [
        "clean_data= data.drop(['TEY'],axis = 1)\n",
        "x=clean_data\n",
        "x"
      ],
      "execution_count": 7,
      "outputs": [
        {
          "output_type": "execute_result",
          "data": {
            "text/html": [
              "<div>\n",
              "<style scoped>\n",
              "    .dataframe tbody tr th:only-of-type {\n",
              "        vertical-align: middle;\n",
              "    }\n",
              "\n",
              "    .dataframe tbody tr th {\n",
              "        vertical-align: top;\n",
              "    }\n",
              "\n",
              "    .dataframe thead th {\n",
              "        text-align: right;\n",
              "    }\n",
              "</style>\n",
              "<table border=\"1\" class=\"dataframe\">\n",
              "  <thead>\n",
              "    <tr style=\"text-align: right;\">\n",
              "      <th></th>\n",
              "      <th>AT</th>\n",
              "      <th>AP</th>\n",
              "      <th>AH</th>\n",
              "      <th>AFDP</th>\n",
              "      <th>GTEP</th>\n",
              "      <th>TIT</th>\n",
              "      <th>TAT</th>\n",
              "      <th>CDP</th>\n",
              "      <th>CO</th>\n",
              "      <th>NOX</th>\n",
              "    </tr>\n",
              "  </thead>\n",
              "  <tbody>\n",
              "    <tr>\n",
              "      <th>0</th>\n",
              "      <td>6.8594</td>\n",
              "      <td>1007.9</td>\n",
              "      <td>96.799</td>\n",
              "      <td>3.5000</td>\n",
              "      <td>19.663</td>\n",
              "      <td>1059.2</td>\n",
              "      <td>550.00</td>\n",
              "      <td>10.605</td>\n",
              "      <td>3.1547</td>\n",
              "      <td>82.722</td>\n",
              "    </tr>\n",
              "    <tr>\n",
              "      <th>1</th>\n",
              "      <td>6.7850</td>\n",
              "      <td>1008.4</td>\n",
              "      <td>97.118</td>\n",
              "      <td>3.4998</td>\n",
              "      <td>19.728</td>\n",
              "      <td>1059.3</td>\n",
              "      <td>550.00</td>\n",
              "      <td>10.598</td>\n",
              "      <td>3.2363</td>\n",
              "      <td>82.776</td>\n",
              "    </tr>\n",
              "    <tr>\n",
              "      <th>2</th>\n",
              "      <td>6.8977</td>\n",
              "      <td>1008.8</td>\n",
              "      <td>95.939</td>\n",
              "      <td>3.4824</td>\n",
              "      <td>19.779</td>\n",
              "      <td>1059.4</td>\n",
              "      <td>549.87</td>\n",
              "      <td>10.601</td>\n",
              "      <td>3.2012</td>\n",
              "      <td>82.468</td>\n",
              "    </tr>\n",
              "    <tr>\n",
              "      <th>3</th>\n",
              "      <td>7.0569</td>\n",
              "      <td>1009.2</td>\n",
              "      <td>95.249</td>\n",
              "      <td>3.4805</td>\n",
              "      <td>19.792</td>\n",
              "      <td>1059.6</td>\n",
              "      <td>549.99</td>\n",
              "      <td>10.606</td>\n",
              "      <td>3.1923</td>\n",
              "      <td>82.670</td>\n",
              "    </tr>\n",
              "    <tr>\n",
              "      <th>4</th>\n",
              "      <td>7.3978</td>\n",
              "      <td>1009.7</td>\n",
              "      <td>95.150</td>\n",
              "      <td>3.4976</td>\n",
              "      <td>19.765</td>\n",
              "      <td>1059.7</td>\n",
              "      <td>549.98</td>\n",
              "      <td>10.612</td>\n",
              "      <td>3.2484</td>\n",
              "      <td>82.311</td>\n",
              "    </tr>\n",
              "    <tr>\n",
              "      <th>...</th>\n",
              "      <td>...</td>\n",
              "      <td>...</td>\n",
              "      <td>...</td>\n",
              "      <td>...</td>\n",
              "      <td>...</td>\n",
              "      <td>...</td>\n",
              "      <td>...</td>\n",
              "      <td>...</td>\n",
              "      <td>...</td>\n",
              "      <td>...</td>\n",
              "    </tr>\n",
              "    <tr>\n",
              "      <th>15034</th>\n",
              "      <td>9.0301</td>\n",
              "      <td>1005.6</td>\n",
              "      <td>98.460</td>\n",
              "      <td>3.5421</td>\n",
              "      <td>19.164</td>\n",
              "      <td>1049.7</td>\n",
              "      <td>546.21</td>\n",
              "      <td>10.400</td>\n",
              "      <td>4.5186</td>\n",
              "      <td>79.559</td>\n",
              "    </tr>\n",
              "    <tr>\n",
              "      <th>15035</th>\n",
              "      <td>7.8879</td>\n",
              "      <td>1005.9</td>\n",
              "      <td>99.093</td>\n",
              "      <td>3.5059</td>\n",
              "      <td>19.414</td>\n",
              "      <td>1046.3</td>\n",
              "      <td>543.22</td>\n",
              "      <td>10.433</td>\n",
              "      <td>4.8470</td>\n",
              "      <td>79.917</td>\n",
              "    </tr>\n",
              "    <tr>\n",
              "      <th>15036</th>\n",
              "      <td>7.2647</td>\n",
              "      <td>1006.3</td>\n",
              "      <td>99.496</td>\n",
              "      <td>3.4770</td>\n",
              "      <td>19.530</td>\n",
              "      <td>1037.7</td>\n",
              "      <td>537.32</td>\n",
              "      <td>10.483</td>\n",
              "      <td>7.9632</td>\n",
              "      <td>90.912</td>\n",
              "    </tr>\n",
              "    <tr>\n",
              "      <th>15037</th>\n",
              "      <td>7.0060</td>\n",
              "      <td>1006.8</td>\n",
              "      <td>99.008</td>\n",
              "      <td>3.4486</td>\n",
              "      <td>19.377</td>\n",
              "      <td>1043.2</td>\n",
              "      <td>541.24</td>\n",
              "      <td>10.533</td>\n",
              "      <td>6.2494</td>\n",
              "      <td>93.227</td>\n",
              "    </tr>\n",
              "    <tr>\n",
              "      <th>15038</th>\n",
              "      <td>6.9279</td>\n",
              "      <td>1007.2</td>\n",
              "      <td>97.533</td>\n",
              "      <td>3.4275</td>\n",
              "      <td>19.306</td>\n",
              "      <td>1049.9</td>\n",
              "      <td>545.85</td>\n",
              "      <td>10.583</td>\n",
              "      <td>4.9816</td>\n",
              "      <td>92.498</td>\n",
              "    </tr>\n",
              "  </tbody>\n",
              "</table>\n",
              "<p>15039 rows × 10 columns</p>\n",
              "</div>"
            ],
            "text/plain": [
              "           AT      AP      AH    AFDP  ...     TAT     CDP      CO     NOX\n",
              "0      6.8594  1007.9  96.799  3.5000  ...  550.00  10.605  3.1547  82.722\n",
              "1      6.7850  1008.4  97.118  3.4998  ...  550.00  10.598  3.2363  82.776\n",
              "2      6.8977  1008.8  95.939  3.4824  ...  549.87  10.601  3.2012  82.468\n",
              "3      7.0569  1009.2  95.249  3.4805  ...  549.99  10.606  3.1923  82.670\n",
              "4      7.3978  1009.7  95.150  3.4976  ...  549.98  10.612  3.2484  82.311\n",
              "...       ...     ...     ...     ...  ...     ...     ...     ...     ...\n",
              "15034  9.0301  1005.6  98.460  3.5421  ...  546.21  10.400  4.5186  79.559\n",
              "15035  7.8879  1005.9  99.093  3.5059  ...  543.22  10.433  4.8470  79.917\n",
              "15036  7.2647  1006.3  99.496  3.4770  ...  537.32  10.483  7.9632  90.912\n",
              "15037  7.0060  1006.8  99.008  3.4486  ...  541.24  10.533  6.2494  93.227\n",
              "15038  6.9279  1007.2  97.533  3.4275  ...  545.85  10.583  4.9816  92.498\n",
              "\n",
              "[15039 rows x 10 columns]"
            ]
          },
          "metadata": {},
          "execution_count": 7
        }
      ]
    },
    {
      "cell_type": "code",
      "metadata": {
        "colab": {
          "base_uri": "https://localhost:8080/"
        },
        "id": "4rdFh8gy5GNN",
        "outputId": "0a40519b-26f9-4b32-ff43-b587a5925b5b"
      },
      "source": [
        "y = data['TEY']\n",
        "y"
      ],
      "execution_count": 8,
      "outputs": [
        {
          "output_type": "execute_result",
          "data": {
            "text/plain": [
              "0        114.70\n",
              "1        114.72\n",
              "2        114.71\n",
              "3        114.72\n",
              "4        114.72\n",
              "          ...  \n",
              "15034    111.61\n",
              "15035    111.78\n",
              "15036    110.19\n",
              "15037    110.74\n",
              "15038    111.58\n",
              "Name: TEY, Length: 15039, dtype: float64"
            ]
          },
          "metadata": {},
          "execution_count": 8
        }
      ]
    },
    {
      "cell_type": "code",
      "metadata": {
        "id": "mltW9K-R5KGy"
      },
      "source": [
        "scaler = StandardScaler()\n",
        "x_scaler = scaler.fit_transform(x)"
      ],
      "execution_count": 9,
      "outputs": []
    },
    {
      "cell_type": "code",
      "metadata": {
        "id": "8tyCdqkl5ZtN"
      },
      "source": [
        "#Model\n",
        "def create_model():\n",
        "    model = Sequential()\n",
        "    model.add(Dense(8,input_dim = 10,kernel_initializer = 'uniform', activation = 'relu'))\n",
        "    model.add(Dense(5,kernel_initializer = 'uniform', activation = 'relu'))\n",
        "    model.add(Dense(1,kernel_initializer = 'uniform', activation = 'sigmoid'))\n",
        "    \n",
        "    adam = Adam(lr = 0.01)\n",
        "    model.compile(loss = 'mean_squared_error', optimizer = 'adam', metrics = ['accuracy'])\n",
        "    return model"
      ],
      "execution_count": 10,
      "outputs": []
    },
    {
      "cell_type": "code",
      "metadata": {
        "colab": {
          "base_uri": "https://localhost:8080/"
        },
        "id": "gZ3lqXc15nAQ",
        "outputId": "634a2f43-458a-47ad-f436-45036bc11f33"
      },
      "source": [
        "#Regression model and their grid search for best params\n",
        "model = KerasRegressor(build_fn = create_model, verbose = 0)\n",
        "param_grid = dict(batch_size =  [40,60,80,100,110], epochs =  [10,20,40,60,70])\n",
        "\n",
        "grid = GridSearchCV(estimator = model, param_grid = param_grid, cv = KFold(), verbose = 10)\n",
        "grid.fit(x_scaler,y)"
      ],
      "execution_count": 13,
      "outputs": [
        {
          "output_type": "stream",
          "name": "stdout",
          "text": [
            "Fitting 5 folds for each of 25 candidates, totalling 125 fits\n",
            "[CV] batch_size=40, epochs=10 ........................................\n"
          ]
        },
        {
          "output_type": "stream",
          "name": "stderr",
          "text": [
            "[Parallel(n_jobs=1)]: Using backend SequentialBackend with 1 concurrent workers.\n",
            "/usr/local/lib/python3.7/dist-packages/keras/optimizer_v2/optimizer_v2.py:356: UserWarning: The `lr` argument is deprecated, use `learning_rate` instead.\n",
            "  \"The `lr` argument is deprecated, use `learning_rate` instead.\")\n"
          ]
        },
        {
          "output_type": "stream",
          "name": "stdout",
          "text": [
            "[CV] ....... batch_size=40, epochs=10, score=-18533.291, total=   4.3s\n",
            "[CV] batch_size=40, epochs=10 ........................................\n"
          ]
        },
        {
          "output_type": "stream",
          "name": "stderr",
          "text": [
            "[Parallel(n_jobs=1)]: Done   1 out of   1 | elapsed:    4.3s remaining:    0.0s\n"
          ]
        },
        {
          "output_type": "stream",
          "name": "stdout",
          "text": [
            "[CV] ....... batch_size=40, epochs=10, score=-16715.760, total=   3.3s\n",
            "[CV] batch_size=40, epochs=10 ........................................\n"
          ]
        },
        {
          "output_type": "stream",
          "name": "stderr",
          "text": [
            "[Parallel(n_jobs=1)]: Done   2 out of   2 | elapsed:    7.6s remaining:    0.0s\n"
          ]
        },
        {
          "output_type": "stream",
          "name": "stdout",
          "text": [
            "[CV] ....... batch_size=40, epochs=10, score=-19193.980, total=   6.0s\n",
            "[CV] batch_size=40, epochs=10 ........................................\n"
          ]
        },
        {
          "output_type": "stream",
          "name": "stderr",
          "text": [
            "[Parallel(n_jobs=1)]: Done   3 out of   3 | elapsed:   13.6s remaining:    0.0s\n"
          ]
        },
        {
          "output_type": "stream",
          "name": "stdout",
          "text": [
            "[CV] ....... batch_size=40, epochs=10, score=-18239.473, total=   3.3s\n",
            "[CV] batch_size=40, epochs=10 ........................................\n"
          ]
        },
        {
          "output_type": "stream",
          "name": "stderr",
          "text": [
            "[Parallel(n_jobs=1)]: Done   4 out of   4 | elapsed:   16.8s remaining:    0.0s\n"
          ]
        },
        {
          "output_type": "stream",
          "name": "stdout",
          "text": [
            "[CV] ....... batch_size=40, epochs=10, score=-17266.146, total=   3.2s\n",
            "[CV] batch_size=40, epochs=20 ........................................\n"
          ]
        },
        {
          "output_type": "stream",
          "name": "stderr",
          "text": [
            "[Parallel(n_jobs=1)]: Done   5 out of   5 | elapsed:   20.0s remaining:    0.0s\n"
          ]
        },
        {
          "output_type": "stream",
          "name": "stdout",
          "text": [
            "[CV] ....... batch_size=40, epochs=20, score=-18533.199, total=   5.8s\n",
            "[CV] batch_size=40, epochs=20 ........................................\n"
          ]
        },
        {
          "output_type": "stream",
          "name": "stderr",
          "text": [
            "[Parallel(n_jobs=1)]: Done   6 out of   6 | elapsed:   25.8s remaining:    0.0s\n"
          ]
        },
        {
          "output_type": "stream",
          "name": "stdout",
          "text": [
            "[CV] ....... batch_size=40, epochs=20, score=-16715.744, total=  10.9s\n",
            "[CV] batch_size=40, epochs=20 ........................................\n"
          ]
        },
        {
          "output_type": "stream",
          "name": "stderr",
          "text": [
            "[Parallel(n_jobs=1)]: Done   7 out of   7 | elapsed:   36.7s remaining:    0.0s\n"
          ]
        },
        {
          "output_type": "stream",
          "name": "stdout",
          "text": [
            "[CV] ....... batch_size=40, epochs=20, score=-19193.926, total=   5.8s\n",
            "[CV] batch_size=40, epochs=20 ........................................\n"
          ]
        },
        {
          "output_type": "stream",
          "name": "stderr",
          "text": [
            "[Parallel(n_jobs=1)]: Done   8 out of   8 | elapsed:   42.5s remaining:    0.0s\n"
          ]
        },
        {
          "output_type": "stream",
          "name": "stdout",
          "text": [
            "[CV] ....... batch_size=40, epochs=20, score=-18239.477, total=  10.9s\n",
            "[CV] batch_size=40, epochs=20 ........................................\n"
          ]
        },
        {
          "output_type": "stream",
          "name": "stderr",
          "text": [
            "[Parallel(n_jobs=1)]: Done   9 out of   9 | elapsed:   53.3s remaining:    0.0s\n"
          ]
        },
        {
          "output_type": "stream",
          "name": "stdout",
          "text": [
            "[CV] ....... batch_size=40, epochs=20, score=-17266.115, total=   5.9s\n",
            "[CV] batch_size=40, epochs=40 ........................................\n",
            "[CV] ....... batch_size=40, epochs=40, score=-18533.191, total=  10.9s\n",
            "[CV] batch_size=40, epochs=40 ........................................\n",
            "[CV] ....... batch_size=40, epochs=40, score=-16715.727, total=  11.3s\n",
            "[CV] batch_size=40, epochs=40 ........................................\n",
            "[CV] ....... batch_size=40, epochs=40, score=-19193.918, total=  11.2s\n",
            "[CV] batch_size=40, epochs=40 ........................................\n",
            "[CV] ....... batch_size=40, epochs=40, score=-18239.473, total=  21.4s\n",
            "[CV] batch_size=40, epochs=40 ........................................\n",
            "[CV] ....... batch_size=40, epochs=40, score=-17266.105, total=  21.1s\n",
            "[CV] batch_size=40, epochs=60 ........................................\n",
            "[CV] ....... batch_size=40, epochs=60, score=-18533.191, total=  16.3s\n",
            "[CV] batch_size=40, epochs=60 ........................................\n",
            "[CV] ....... batch_size=40, epochs=60, score=-16715.727, total=  16.1s\n",
            "[CV] batch_size=40, epochs=60 ........................................\n",
            "[CV] ....... batch_size=40, epochs=60, score=-19193.918, total=  16.3s\n",
            "[CV] batch_size=40, epochs=60 ........................................\n",
            "[CV] ....... batch_size=40, epochs=60, score=-18239.473, total=  16.1s\n",
            "[CV] batch_size=40, epochs=60 ........................................\n",
            "[CV] ....... batch_size=40, epochs=60, score=-17266.104, total=  21.1s\n",
            "[CV] batch_size=40, epochs=70 ........................................\n",
            "[CV] ....... batch_size=40, epochs=70, score=-18533.191, total=  18.8s\n",
            "[CV] batch_size=40, epochs=70 ........................................\n",
            "[CV] ....... batch_size=40, epochs=70, score=-16715.727, total=  21.1s\n",
            "[CV] batch_size=40, epochs=70 ........................................\n",
            "[CV] ....... batch_size=40, epochs=70, score=-19193.918, total=  18.9s\n",
            "[CV] batch_size=40, epochs=70 ........................................\n",
            "[CV] ....... batch_size=40, epochs=70, score=-18239.473, total=  21.4s\n",
            "[CV] batch_size=40, epochs=70 ........................................\n",
            "[CV] ....... batch_size=40, epochs=70, score=-17266.104, total=  21.1s\n",
            "[CV] batch_size=60, epochs=10 ........................................\n",
            "[CV] ....... batch_size=60, epochs=10, score=-18533.381, total=   3.2s\n",
            "[CV] batch_size=60, epochs=10 ........................................\n",
            "[CV] ....... batch_size=60, epochs=10, score=-16715.773, total=   3.2s\n",
            "[CV] batch_size=60, epochs=10 ........................................\n",
            "[CV] ....... batch_size=60, epochs=10, score=-19194.043, total=   2.5s\n",
            "[CV] batch_size=60, epochs=10 ........................................\n",
            "[CV] ....... batch_size=60, epochs=10, score=-18239.551, total=   3.2s\n",
            "[CV] batch_size=60, epochs=10 ........................................\n",
            "[CV] ....... batch_size=60, epochs=10, score=-17266.166, total=   2.4s\n",
            "[CV] batch_size=60, epochs=20 ........................................\n",
            "[CV] ....... batch_size=60, epochs=20, score=-18533.207, total=   5.7s\n",
            "[CV] batch_size=60, epochs=20 ........................................\n",
            "[CV] ....... batch_size=60, epochs=20, score=-16715.750, total=   5.7s\n",
            "[CV] batch_size=60, epochs=20 ........................................\n",
            "[CV] ....... batch_size=60, epochs=20, score=-19193.967, total=   5.8s\n",
            "[CV] batch_size=60, epochs=20 ........................................\n",
            "[CV] ....... batch_size=60, epochs=20, score=-18239.484, total=   4.1s\n",
            "[CV] batch_size=60, epochs=20 ........................................\n",
            "[CV] ....... batch_size=60, epochs=20, score=-17266.127, total=   4.7s\n",
            "[CV] batch_size=60, epochs=40 ........................................\n",
            "[CV] ....... batch_size=60, epochs=40, score=-18533.189, total=  10.8s\n",
            "[CV] batch_size=60, epochs=40 ........................................\n",
            "[CV] ....... batch_size=60, epochs=40, score=-16715.730, total=   7.6s\n",
            "[CV] batch_size=60, epochs=40 ........................................\n",
            "[CV] ....... batch_size=60, epochs=40, score=-19193.920, total=   7.7s\n",
            "[CV] batch_size=60, epochs=40 ........................................\n",
            "[CV] ....... batch_size=60, epochs=40, score=-18239.477, total=  10.9s\n",
            "[CV] batch_size=60, epochs=40 ........................................\n",
            "[CV] ....... batch_size=60, epochs=40, score=-17266.111, total=   7.7s\n",
            "[CV] batch_size=60, epochs=60 ........................................\n",
            "[CV] ....... batch_size=60, epochs=60, score=-18533.189, total=  21.1s\n",
            "[CV] batch_size=60, epochs=60 ........................................\n",
            "[CV] ....... batch_size=60, epochs=60, score=-16715.729, total=  21.1s\n",
            "[CV] batch_size=60, epochs=60 ........................................\n",
            "[CV] ....... batch_size=60, epochs=60, score=-19193.918, total=  11.0s\n",
            "[CV] batch_size=60, epochs=60 ........................................\n",
            "[CV] ....... batch_size=60, epochs=60, score=-18239.477, total=  11.1s\n",
            "[CV] batch_size=60, epochs=60 ........................................\n",
            "[CV] ....... batch_size=60, epochs=60, score=-17266.109, total=  21.6s\n",
            "[CV] batch_size=60, epochs=70 ........................................\n",
            "[CV] ....... batch_size=60, epochs=70, score=-18533.189, total=  21.1s\n",
            "[CV] batch_size=60, epochs=70 ........................................\n",
            "[CV] ....... batch_size=60, epochs=70, score=-16715.729, total=  21.1s\n",
            "[CV] batch_size=60, epochs=70 ........................................\n",
            "[CV] ....... batch_size=60, epochs=70, score=-19193.916, total=  12.9s\n",
            "[CV] batch_size=60, epochs=70 ........................................\n",
            "[CV] ....... batch_size=60, epochs=70, score=-18239.477, total=  21.1s\n",
            "[CV] batch_size=60, epochs=70 ........................................\n",
            "[CV] ....... batch_size=60, epochs=70, score=-17266.109, total=  21.1s\n",
            "[CV] batch_size=80, epochs=10 ........................................\n",
            "[CV] ....... batch_size=80, epochs=10, score=-18533.752, total=   2.0s\n",
            "[CV] batch_size=80, epochs=10 ........................................\n",
            "[CV] ....... batch_size=80, epochs=10, score=-16716.020, total=   3.2s\n",
            "[CV] batch_size=80, epochs=10 ........................................\n",
            "[CV] ....... batch_size=80, epochs=10, score=-19194.260, total=   3.2s\n",
            "[CV] batch_size=80, epochs=10 ........................................\n",
            "[CV] ....... batch_size=80, epochs=10, score=-18239.535, total=   3.2s\n",
            "[CV] batch_size=80, epochs=10 ........................................\n",
            "[CV] ....... batch_size=80, epochs=10, score=-17266.201, total=   2.3s\n",
            "[CV] batch_size=80, epochs=20 ........................................\n",
            "[CV] ....... batch_size=80, epochs=20, score=-18533.242, total=   3.3s\n",
            "[CV] batch_size=80, epochs=20 ........................................\n",
            "[CV] ....... batch_size=80, epochs=20, score=-16737.088, total=   3.3s\n",
            "[CV] batch_size=80, epochs=20 ........................................\n",
            "[CV] ....... batch_size=80, epochs=20, score=-19193.932, total=   5.7s\n",
            "[CV] batch_size=80, epochs=20 ........................................\n",
            "[CV] ....... batch_size=80, epochs=20, score=-18239.488, total=   5.7s\n",
            "[CV] batch_size=80, epochs=20 ........................................\n",
            "[CV] ....... batch_size=80, epochs=20, score=-17266.131, total=   5.7s\n",
            "[CV] batch_size=80, epochs=40 ........................................\n",
            "[CV] ....... batch_size=80, epochs=40, score=-18533.191, total=   6.0s\n",
            "[CV] batch_size=80, epochs=40 ........................................\n",
            "[CV] ....... batch_size=80, epochs=40, score=-16715.730, total=  10.8s\n",
            "[CV] batch_size=80, epochs=40 ........................................\n",
            "[CV] ....... batch_size=80, epochs=40, score=-19193.926, total=  10.9s\n",
            "[CV] batch_size=80, epochs=40 ........................................\n",
            "[CV] ....... batch_size=80, epochs=40, score=-18239.477, total=   6.0s\n",
            "[CV] batch_size=80, epochs=40 ........................................\n",
            "[CV] ....... batch_size=80, epochs=40, score=-17266.109, total=   6.0s\n",
            "[CV] batch_size=80, epochs=60 ........................................\n",
            "[CV] ....... batch_size=80, epochs=60, score=-18533.186, total=  11.2s\n",
            "[CV] batch_size=80, epochs=60 ........................................\n",
            "[CV] ....... batch_size=80, epochs=60, score=-16715.730, total=  10.8s\n",
            "[CV] batch_size=80, epochs=60 ........................................\n",
            "[CV] ....... batch_size=80, epochs=60, score=-19193.916, total=  10.8s\n",
            "[CV] batch_size=80, epochs=60 ........................................\n",
            "[CV] ....... batch_size=80, epochs=60, score=-18239.477, total=  10.9s\n",
            "[CV] batch_size=80, epochs=60 ........................................\n",
            "[CV] ....... batch_size=80, epochs=60, score=-17266.109, total=   9.1s\n",
            "[CV] batch_size=80, epochs=70 ........................................\n",
            "[CV] ....... batch_size=80, epochs=70, score=-18533.186, total=  10.9s\n",
            "[CV] batch_size=80, epochs=70 ........................................\n",
            "[CV] ....... batch_size=80, epochs=70, score=-16715.727, total=  10.8s\n",
            "[CV] batch_size=80, epochs=70 ........................................\n",
            "[CV] ....... batch_size=80, epochs=70, score=-19193.916, total=   9.8s\n",
            "[CV] batch_size=80, epochs=70 ........................................\n",
            "[CV] ....... batch_size=80, epochs=70, score=-18239.477, total=  10.0s\n",
            "[CV] batch_size=80, epochs=70 ........................................\n",
            "[CV] ....... batch_size=80, epochs=70, score=-17266.109, total=   9.9s\n",
            "[CV] batch_size=100, epochs=10 .......................................\n",
            "[CV] ...... batch_size=100, epochs=10, score=-18533.598, total=   2.3s\n",
            "[CV] batch_size=100, epochs=10 .......................................\n",
            "[CV] ...... batch_size=100, epochs=10, score=-16716.756, total=   1.9s\n",
            "[CV] batch_size=100, epochs=10 .......................................\n",
            "[CV] ...... batch_size=100, epochs=10, score=-19194.197, total=   2.0s\n",
            "[CV] batch_size=100, epochs=10 .......................................\n",
            "[CV] ...... batch_size=100, epochs=10, score=-18239.705, total=   1.8s\n",
            "[CV] batch_size=100, epochs=10 .......................................\n",
            "[CV] ...... batch_size=100, epochs=10, score=-17266.201, total=   1.9s\n",
            "[CV] batch_size=100, epochs=20 .......................................\n",
            "[CV] ...... batch_size=100, epochs=20, score=-18533.252, total=   3.2s\n",
            "[CV] batch_size=100, epochs=20 .......................................\n",
            "[CV] ...... batch_size=100, epochs=20, score=-16715.855, total=   2.9s\n",
            "[CV] batch_size=100, epochs=20 .......................................\n",
            "[CV] ...... batch_size=100, epochs=20, score=-19194.010, total=   3.2s\n",
            "[CV] batch_size=100, epochs=20 .......................................\n",
            "[CV] ...... batch_size=100, epochs=20, score=-18239.510, total=   2.9s\n",
            "[CV] batch_size=100, epochs=20 .......................................\n",
            "[CV] ...... batch_size=100, epochs=20, score=-17266.160, total=   2.9s\n",
            "[CV] batch_size=100, epochs=40 .......................................\n",
            "[CV] ...... batch_size=100, epochs=40, score=-18533.193, total=   5.7s\n",
            "[CV] batch_size=100, epochs=40 .......................................\n",
            "[CV] ...... batch_size=100, epochs=40, score=-16715.748, total=   5.3s\n",
            "[CV] batch_size=100, epochs=40 .......................................\n",
            "[CV] ...... batch_size=100, epochs=40, score=-19193.939, total=   5.7s\n",
            "[CV] batch_size=100, epochs=40 .......................................\n",
            "[CV] ...... batch_size=100, epochs=40, score=-18239.486, total=   5.7s\n",
            "[CV] batch_size=100, epochs=40 .......................................\n",
            "[CV] ...... batch_size=100, epochs=40, score=-17266.109, total=   5.7s\n",
            "[CV] batch_size=100, epochs=60 .......................................\n",
            "[CV] ...... batch_size=100, epochs=60, score=-18533.188, total=   7.3s\n",
            "[CV] batch_size=100, epochs=60 .......................................\n",
            "[CV] ...... batch_size=100, epochs=60, score=-16715.730, total=   7.2s\n",
            "[CV] batch_size=100, epochs=60 .......................................\n",
            "[CV] ...... batch_size=100, epochs=60, score=-19193.920, total=   7.0s\n",
            "[CV] batch_size=100, epochs=60 .......................................\n",
            "[CV] ...... batch_size=100, epochs=60, score=-18239.477, total=   7.2s\n",
            "[CV] batch_size=100, epochs=60 .......................................\n",
            "[CV] ...... batch_size=100, epochs=60, score=-17266.113, total=  10.9s\n",
            "[CV] batch_size=100, epochs=70 .......................................\n",
            "[CV] ...... batch_size=100, epochs=70, score=-18533.186, total=   8.1s\n",
            "[CV] batch_size=100, epochs=70 .......................................\n",
            "[CV] ...... batch_size=100, epochs=70, score=-16715.727, total=  11.2s\n",
            "[CV] batch_size=100, epochs=70 .......................................\n",
            "[CV] ...... batch_size=100, epochs=70, score=-19193.918, total=  10.9s\n",
            "[CV] batch_size=100, epochs=70 .......................................\n",
            "[CV] ...... batch_size=100, epochs=70, score=-18239.477, total=  10.8s\n",
            "[CV] batch_size=100, epochs=70 .......................................\n",
            "[CV] ...... batch_size=100, epochs=70, score=-17266.111, total=  10.9s\n",
            "[CV] batch_size=110, epochs=10 .......................................\n",
            "[CV] ...... batch_size=110, epochs=10, score=-18533.689, total=   1.7s\n",
            "[CV] batch_size=110, epochs=10 .......................................\n",
            "[CV] ...... batch_size=110, epochs=10, score=-16716.715, total=   1.6s\n",
            "[CV] batch_size=110, epochs=10 .......................................\n",
            "[CV] ...... batch_size=110, epochs=10, score=-19194.195, total=   1.9s\n",
            "[CV] batch_size=110, epochs=10 .......................................\n",
            "[CV] ...... batch_size=110, epochs=10, score=-18239.736, total=   1.7s\n",
            "[CV] batch_size=110, epochs=10 .......................................\n",
            "[CV] ...... batch_size=110, epochs=10, score=-17266.246, total=   1.9s\n",
            "[CV] batch_size=110, epochs=20 .......................................\n",
            "[CV] ...... batch_size=110, epochs=20, score=-18533.393, total=   2.6s\n",
            "[CV] batch_size=110, epochs=20 .......................................\n",
            "[CV] ...... batch_size=110, epochs=20, score=-16715.746, total=   2.6s\n",
            "[CV] batch_size=110, epochs=20 .......................................\n",
            "[CV] ...... batch_size=110, epochs=20, score=-19193.975, total=   3.6s\n",
            "[CV] batch_size=110, epochs=20 .......................................\n",
            "[CV] ...... batch_size=110, epochs=20, score=-18239.562, total=   2.7s\n",
            "[CV] batch_size=110, epochs=20 .......................................\n",
            "[CV] ...... batch_size=110, epochs=20, score=-17266.141, total=   2.6s\n",
            "[CV] batch_size=110, epochs=40 .......................................\n",
            "[CV] ...... batch_size=110, epochs=40, score=-18533.205, total=   4.6s\n",
            "[CV] batch_size=110, epochs=40 .......................................\n",
            "[CV] ...... batch_size=110, epochs=40, score=-16715.766, total=   5.7s\n",
            "[CV] batch_size=110, epochs=40 .......................................\n",
            "[CV] ...... batch_size=110, epochs=40, score=-19193.939, total=   5.7s\n",
            "[CV] batch_size=110, epochs=40 .......................................\n",
            "[CV] ...... batch_size=110, epochs=40, score=-18239.488, total=   4.6s\n",
            "[CV] batch_size=110, epochs=40 .......................................\n",
            "[CV] ...... batch_size=110, epochs=40, score=-17266.115, total=   5.8s\n",
            "[CV] batch_size=110, epochs=60 .......................................\n",
            "[CV] ...... batch_size=110, epochs=60, score=-18533.199, total=   6.6s\n",
            "[CV] batch_size=110, epochs=60 .......................................\n",
            "[CV] ...... batch_size=110, epochs=60, score=-16715.732, total=   6.5s\n",
            "[CV] batch_size=110, epochs=60 .......................................\n",
            "[CV] ...... batch_size=110, epochs=60, score=-19193.918, total=  11.2s\n",
            "[CV] batch_size=110, epochs=60 .......................................\n",
            "[CV] ...... batch_size=110, epochs=60, score=-18239.479, total=  10.8s\n",
            "[CV] batch_size=110, epochs=60 .......................................\n",
            "[CV] ...... batch_size=110, epochs=60, score=-17266.115, total=  10.9s\n",
            "[CV] batch_size=110, epochs=70 .......................................\n",
            "[CV] ...... batch_size=110, epochs=70, score=-18533.197, total=   7.5s\n",
            "[CV] batch_size=110, epochs=70 .......................................\n",
            "[CV] ...... batch_size=110, epochs=70, score=-16715.730, total=  10.9s\n",
            "[CV] batch_size=110, epochs=70 .......................................\n",
            "[CV] ...... batch_size=110, epochs=70, score=-19193.918, total=   7.8s\n",
            "[CV] batch_size=110, epochs=70 .......................................\n",
            "[CV] ...... batch_size=110, epochs=70, score=-18239.479, total=  10.9s\n",
            "[CV] batch_size=110, epochs=70 .......................................\n",
            "[CV] ...... batch_size=110, epochs=70, score=-17266.109, total=   7.5s\n"
          ]
        },
        {
          "output_type": "stream",
          "name": "stderr",
          "text": [
            "[Parallel(n_jobs=1)]: Done 125 out of 125 | elapsed: 17.6min finished\n"
          ]
        },
        {
          "output_type": "execute_result",
          "data": {
            "text/plain": [
              "GridSearchCV(cv=KFold(n_splits=5, random_state=None, shuffle=False),\n",
              "             error_score=nan,\n",
              "             estimator=<keras.wrappers.scikit_learn.KerasRegressor object at 0x7f1f35ceb5d0>,\n",
              "             iid='deprecated', n_jobs=None,\n",
              "             param_grid={'batch_size': [40, 60, 80, 100, 110],\n",
              "                         'epochs': [10, 20, 40, 60, 70]},\n",
              "             pre_dispatch='2*n_jobs', refit=True, return_train_score=False,\n",
              "             scoring=None, verbose=10)"
            ]
          },
          "metadata": {},
          "execution_count": 13
        }
      ]
    },
    {
      "cell_type": "code",
      "metadata": {
        "colab": {
          "base_uri": "https://localhost:8080/"
        },
        "id": "XSw1Nbpg6Uzt",
        "outputId": "b99f4950-1835-4927-98c3-6ef49f827a61"
      },
      "source": [
        "print('Best: {} with: {}'.format(grid.best_score_ , grid.best_params_))\n",
        "\n"
      ],
      "execution_count": 14,
      "outputs": [
        {
          "output_type": "stream",
          "name": "stdout",
          "text": [
            "Best: -17989.682421875 with: {'batch_size': 40, 'epochs': 60}\n"
          ]
        }
      ]
    },
    {
      "cell_type": "code",
      "metadata": {
        "id": "9sJjS8zfAU_9"
      },
      "source": [
        "from keras.layers import Dropout\n",
        "#tuning dropout\n"
      ],
      "execution_count": 15,
      "outputs": []
    },
    {
      "cell_type": "code",
      "metadata": {
        "colab": {
          "base_uri": "https://localhost:8080/"
        },
        "id": "XRvLe_efAeAG",
        "outputId": "e7ed9148-ac5e-49f9-aa8c-a60da57084e9"
      },
      "source": [
        "def create_model2(learning_rate,dropout_rate):\n",
        "    model2 = Sequential()\n",
        "    model2.add(Dense(8,input_dim = 10,kernel_initializer = 'uniform', activation = 'relu'))\n",
        "    model2.add(Dropout(dropout_rate))\n",
        "    model2.add(Dense(5,kernel_initializer = 'uniform', activation = 'relu'))\n",
        "    model2.add(Dropout(dropout_rate))\n",
        "    model2.add(Dense(1,kernel_initializer = 'uniform', activation = 'sigmoid'))\n",
        "    \n",
        "    adam = Adam(lr = learning_rate)\n",
        "    model2.compile(loss = 'mean_squared_error', optimizer = 'adam', metrics = ['accuracy'])\n",
        "    return model2\n",
        "\n",
        "model2 = KerasRegressor(build_fn = create_model2,batch_size = 80, epochs = 70, verbose = 0)\n",
        "param_grid = dict(dropout_rate = [0.1,0.2,0.5], learning_rate = [0.1,0.01,0.001])\n",
        "\n",
        "grid = GridSearchCV(estimator = model2, param_grid = param_grid, cv = KFold(n_splits = 3), verbose = 10)\n",
        "grid.fit(x_scaler,y)"
      ],
      "execution_count": 17,
      "outputs": [
        {
          "output_type": "stream",
          "name": "stdout",
          "text": [
            "Fitting 3 folds for each of 9 candidates, totalling 27 fits\n",
            "[CV] dropout_rate=0.1, learning_rate=0.1 .............................\n"
          ]
        },
        {
          "output_type": "stream",
          "name": "stderr",
          "text": [
            "[Parallel(n_jobs=1)]: Using backend SequentialBackend with 1 concurrent workers.\n",
            "/usr/local/lib/python3.7/dist-packages/keras/optimizer_v2/optimizer_v2.py:356: UserWarning: The `lr` argument is deprecated, use `learning_rate` instead.\n",
            "  \"The `lr` argument is deprecated, use `learning_rate` instead.\")\n"
          ]
        },
        {
          "output_type": "stream",
          "name": "stdout",
          "text": [
            "[CV]  dropout_rate=0.1, learning_rate=0.1, score=-17761.500, total=  11.0s\n",
            "[CV] dropout_rate=0.1, learning_rate=0.1 .............................\n"
          ]
        },
        {
          "output_type": "stream",
          "name": "stderr",
          "text": [
            "[Parallel(n_jobs=1)]: Done   1 out of   1 | elapsed:   11.0s remaining:    0.0s\n"
          ]
        },
        {
          "output_type": "stream",
          "name": "stdout",
          "text": [
            "[CV]  dropout_rate=0.1, learning_rate=0.1, score=-18855.252, total=   9.1s\n",
            "[CV] dropout_rate=0.1, learning_rate=0.1 .............................\n"
          ]
        },
        {
          "output_type": "stream",
          "name": "stderr",
          "text": [
            "[Parallel(n_jobs=1)]: Done   2 out of   2 | elapsed:   20.1s remaining:    0.0s\n"
          ]
        },
        {
          "output_type": "stream",
          "name": "stdout",
          "text": [
            "[CV]  dropout_rate=0.1, learning_rate=0.1, score=-17352.438, total=  10.9s\n",
            "[CV] dropout_rate=0.1, learning_rate=0.01 ............................\n"
          ]
        },
        {
          "output_type": "stream",
          "name": "stderr",
          "text": [
            "[Parallel(n_jobs=1)]: Done   3 out of   3 | elapsed:   31.0s remaining:    0.0s\n"
          ]
        },
        {
          "output_type": "stream",
          "name": "stdout",
          "text": [
            "[CV]  dropout_rate=0.1, learning_rate=0.01, score=-17761.498, total=  11.0s\n",
            "[CV] dropout_rate=0.1, learning_rate=0.01 ............................\n"
          ]
        },
        {
          "output_type": "stream",
          "name": "stderr",
          "text": [
            "[Parallel(n_jobs=1)]: Done   4 out of   4 | elapsed:   42.0s remaining:    0.0s\n"
          ]
        },
        {
          "output_type": "stream",
          "name": "stdout",
          "text": [
            "[CV]  dropout_rate=0.1, learning_rate=0.01, score=-18855.252, total=  10.9s\n",
            "[CV] dropout_rate=0.1, learning_rate=0.01 ............................\n"
          ]
        },
        {
          "output_type": "stream",
          "name": "stderr",
          "text": [
            "[Parallel(n_jobs=1)]: Done   5 out of   5 | elapsed:   52.9s remaining:    0.0s\n"
          ]
        },
        {
          "output_type": "stream",
          "name": "stdout",
          "text": [
            "[CV]  dropout_rate=0.1, learning_rate=0.01, score=-17352.441, total=  10.9s\n",
            "[CV] dropout_rate=0.1, learning_rate=0.001 ...........................\n"
          ]
        },
        {
          "output_type": "stream",
          "name": "stderr",
          "text": [
            "[Parallel(n_jobs=1)]: Done   6 out of   6 | elapsed:  1.1min remaining:    0.0s\n"
          ]
        },
        {
          "output_type": "stream",
          "name": "stdout",
          "text": [
            "[CV]  dropout_rate=0.1, learning_rate=0.001, score=-17761.498, total=  10.9s\n",
            "[CV] dropout_rate=0.1, learning_rate=0.001 ...........................\n"
          ]
        },
        {
          "output_type": "stream",
          "name": "stderr",
          "text": [
            "[Parallel(n_jobs=1)]: Done   7 out of   7 | elapsed:  1.2min remaining:    0.0s\n"
          ]
        },
        {
          "output_type": "stream",
          "name": "stdout",
          "text": [
            "[CV]  dropout_rate=0.1, learning_rate=0.001, score=-18855.252, total=  10.9s\n",
            "[CV] dropout_rate=0.1, learning_rate=0.001 ...........................\n"
          ]
        },
        {
          "output_type": "stream",
          "name": "stderr",
          "text": [
            "[Parallel(n_jobs=1)]: Done   8 out of   8 | elapsed:  1.4min remaining:    0.0s\n"
          ]
        },
        {
          "output_type": "stream",
          "name": "stdout",
          "text": [
            "[CV]  dropout_rate=0.1, learning_rate=0.001, score=-17352.438, total=   8.8s\n",
            "[CV] dropout_rate=0.2, learning_rate=0.1 .............................\n"
          ]
        },
        {
          "output_type": "stream",
          "name": "stderr",
          "text": [
            "[Parallel(n_jobs=1)]: Done   9 out of   9 | elapsed:  1.6min remaining:    0.0s\n"
          ]
        },
        {
          "output_type": "stream",
          "name": "stdout",
          "text": [
            "[CV]  dropout_rate=0.2, learning_rate=0.1, score=-17761.498, total=   8.8s\n",
            "[CV] dropout_rate=0.2, learning_rate=0.1 .............................\n",
            "[CV]  dropout_rate=0.2, learning_rate=0.1, score=-18855.252, total=  10.9s\n",
            "[CV] dropout_rate=0.2, learning_rate=0.1 .............................\n",
            "[CV]  dropout_rate=0.2, learning_rate=0.1, score=-17352.438, total=   8.9s\n",
            "[CV] dropout_rate=0.2, learning_rate=0.01 ............................\n",
            "[CV]  dropout_rate=0.2, learning_rate=0.01, score=-17761.500, total=  10.9s\n",
            "[CV] dropout_rate=0.2, learning_rate=0.01 ............................\n",
            "[CV]  dropout_rate=0.2, learning_rate=0.01, score=-18855.252, total=   8.7s\n",
            "[CV] dropout_rate=0.2, learning_rate=0.01 ............................\n",
            "[CV]  dropout_rate=0.2, learning_rate=0.01, score=-17352.438, total=   9.0s\n",
            "[CV] dropout_rate=0.2, learning_rate=0.001 ...........................\n",
            "[CV]  dropout_rate=0.2, learning_rate=0.001, score=-17761.498, total=   8.9s\n",
            "[CV] dropout_rate=0.2, learning_rate=0.001 ...........................\n",
            "[CV]  dropout_rate=0.2, learning_rate=0.001, score=-18855.252, total=  10.9s\n",
            "[CV] dropout_rate=0.2, learning_rate=0.001 ...........................\n",
            "[CV]  dropout_rate=0.2, learning_rate=0.001, score=-17352.438, total=   8.9s\n",
            "[CV] dropout_rate=0.5, learning_rate=0.1 .............................\n",
            "[CV]  dropout_rate=0.5, learning_rate=0.1, score=-17761.498, total=  10.9s\n",
            "[CV] dropout_rate=0.5, learning_rate=0.1 .............................\n",
            "[CV]  dropout_rate=0.5, learning_rate=0.1, score=-18855.252, total=  10.9s\n",
            "[CV] dropout_rate=0.5, learning_rate=0.1 .............................\n",
            "[CV]  dropout_rate=0.5, learning_rate=0.1, score=-17352.438, total=  11.4s\n",
            "[CV] dropout_rate=0.5, learning_rate=0.01 ............................\n",
            "[CV]  dropout_rate=0.5, learning_rate=0.01, score=-17761.498, total=   9.2s\n",
            "[CV] dropout_rate=0.5, learning_rate=0.01 ............................\n",
            "[CV]  dropout_rate=0.5, learning_rate=0.01, score=-18855.252, total=  11.0s\n",
            "[CV] dropout_rate=0.5, learning_rate=0.01 ............................\n",
            "[CV]  dropout_rate=0.5, learning_rate=0.01, score=-17352.438, total=   8.8s\n",
            "[CV] dropout_rate=0.5, learning_rate=0.001 ...........................\n",
            "[CV]  dropout_rate=0.5, learning_rate=0.001, score=-17761.498, total=   8.9s\n",
            "[CV] dropout_rate=0.5, learning_rate=0.001 ...........................\n",
            "[CV]  dropout_rate=0.5, learning_rate=0.001, score=-18855.252, total=  10.9s\n",
            "[CV] dropout_rate=0.5, learning_rate=0.001 ...........................\n",
            "[CV]  dropout_rate=0.5, learning_rate=0.001, score=-17352.438, total=   8.7s\n"
          ]
        },
        {
          "output_type": "stream",
          "name": "stderr",
          "text": [
            "[Parallel(n_jobs=1)]: Done  27 out of  27 | elapsed:  4.5min finished\n"
          ]
        },
        {
          "output_type": "execute_result",
          "data": {
            "text/plain": [
              "GridSearchCV(cv=KFold(n_splits=3, random_state=None, shuffle=False),\n",
              "             error_score=nan,\n",
              "             estimator=<keras.wrappers.scikit_learn.KerasRegressor object at 0x7f1f31291350>,\n",
              "             iid='deprecated', n_jobs=None,\n",
              "             param_grid={'dropout_rate': [0.1, 0.2, 0.5],\n",
              "                         'learning_rate': [0.1, 0.01, 0.001]},\n",
              "             pre_dispatch='2*n_jobs', refit=True, return_train_score=False,\n",
              "             scoring=None, verbose=10)"
            ]
          },
          "metadata": {},
          "execution_count": 17
        }
      ]
    },
    {
      "cell_type": "code",
      "metadata": {
        "colab": {
          "base_uri": "https://localhost:8080/"
        },
        "id": "_QTbxzISBD16",
        "outputId": "ddb10b60-cc72-46d2-985c-d14583507fec"
      },
      "source": [
        "print('Best: {} with: {}'.format(grid.best_score_ , grid.best_params_))\n",
        "\n"
      ],
      "execution_count": 18,
      "outputs": [
        {
          "output_type": "stream",
          "name": "stdout",
          "text": [
            "Best: -17989.729166666668 with: {'dropout_rate': 0.1, 'learning_rate': 0.001}\n"
          ]
        }
      ]
    },
    {
      "cell_type": "code",
      "metadata": {
        "id": "1qPu8RtfCmmr"
      },
      "source": [
        "means3 = grid.cv_results_['mean_test_score']"
      ],
      "execution_count": 19,
      "outputs": []
    },
    {
      "cell_type": "code",
      "metadata": {
        "id": "KFIRO7f7Co-6"
      },
      "source": [
        "#Activation function tunnnig"
      ],
      "execution_count": 20,
      "outputs": []
    },
    {
      "cell_type": "code",
      "metadata": {
        "id": "DQhj-QB3Csdh"
      },
      "source": [
        "from keras.layers import Dropout"
      ],
      "execution_count": 21,
      "outputs": []
    },
    {
      "cell_type": "code",
      "metadata": {
        "id": "VXJTw86iCyya"
      },
      "source": [
        "def create_model3(activation_function,init):\n",
        "    model3 = Sequential()\n",
        "    model3.add(Dense(8,input_dim = 10,kernel_initializer = init, activation = activation_function))\n",
        "    model3.add(Dropout(0.1))\n",
        "    model3.add(Dense(5,kernel_initializer = init, activation = activation_function))\n",
        "    model3.add(Dropout(0.1))\n",
        "    model3.add(Dense(1,kernel_initializer = 'uniform', activation = 'sigmoid'))\n",
        "    \n",
        "    adam = Adam(lr = 0.001)\n",
        "    model3.compile(loss = 'mean_squared_error', optimizer = 'adam', metrics = ['accuracy'])\n",
        "    return model3\n"
      ],
      "execution_count": 22,
      "outputs": []
    },
    {
      "cell_type": "code",
      "metadata": {
        "colab": {
          "base_uri": "https://localhost:8080/"
        },
        "id": "9yefo4BeDB3X",
        "outputId": "800c6620-e24e-463e-bd63-b0a32816a431"
      },
      "source": [
        "model3 = KerasRegressor(build_fn = create_model3,batch_size = 80, epochs = 70, verbose = 0)\n",
        "param_grid = dict(activation_function =  ['relu','maxout','elu','tanh','sigmoid'], init = ['uniform','normal','zero'])\n",
        "\n",
        "grid = GridSearchCV(estimator = model3, param_grid = param_grid, cv = KFold(n_splits = 3), verbose = 10)\n",
        "grid.fit(x_scaler,y)"
      ],
      "execution_count": 24,
      "outputs": [
        {
          "output_type": "stream",
          "name": "stdout",
          "text": [
            "Fitting 3 folds for each of 15 candidates, totalling 45 fits\n",
            "[CV] activation_function=relu, init=uniform ..........................\n"
          ]
        },
        {
          "output_type": "stream",
          "name": "stderr",
          "text": [
            "[Parallel(n_jobs=1)]: Using backend SequentialBackend with 1 concurrent workers.\n",
            "/usr/local/lib/python3.7/dist-packages/keras/optimizer_v2/optimizer_v2.py:356: UserWarning: The `lr` argument is deprecated, use `learning_rate` instead.\n",
            "  \"The `lr` argument is deprecated, use `learning_rate` instead.\")\n"
          ]
        },
        {
          "output_type": "stream",
          "name": "stdout",
          "text": [
            "[CV]  activation_function=relu, init=uniform, score=-17761.498, total=  10.9s\n",
            "[CV] activation_function=relu, init=uniform ..........................\n"
          ]
        },
        {
          "output_type": "stream",
          "name": "stderr",
          "text": [
            "[Parallel(n_jobs=1)]: Done   1 out of   1 | elapsed:   10.9s remaining:    0.0s\n"
          ]
        },
        {
          "output_type": "stream",
          "name": "stdout",
          "text": [
            "[CV]  activation_function=relu, init=uniform, score=-18855.252, total=  10.9s\n",
            "[CV] activation_function=relu, init=uniform ..........................\n"
          ]
        },
        {
          "output_type": "stream",
          "name": "stderr",
          "text": [
            "[Parallel(n_jobs=1)]: Done   2 out of   2 | elapsed:   21.9s remaining:    0.0s\n"
          ]
        },
        {
          "output_type": "stream",
          "name": "stdout",
          "text": [
            "[CV]  activation_function=relu, init=uniform, score=-17352.438, total=  10.9s\n",
            "[CV] activation_function=relu, init=normal ...........................\n"
          ]
        },
        {
          "output_type": "stream",
          "name": "stderr",
          "text": [
            "[Parallel(n_jobs=1)]: Done   3 out of   3 | elapsed:   32.8s remaining:    0.0s\n"
          ]
        },
        {
          "output_type": "stream",
          "name": "stdout",
          "text": [
            "[CV]  activation_function=relu, init=normal, score=-17761.498, total=  11.4s\n",
            "[CV] activation_function=relu, init=normal ...........................\n"
          ]
        },
        {
          "output_type": "stream",
          "name": "stderr",
          "text": [
            "[Parallel(n_jobs=1)]: Done   4 out of   4 | elapsed:   44.1s remaining:    0.0s\n"
          ]
        },
        {
          "output_type": "stream",
          "name": "stdout",
          "text": [
            "[CV]  activation_function=relu, init=normal, score=-18855.252, total=  10.9s\n",
            "[CV] activation_function=relu, init=normal ...........................\n"
          ]
        },
        {
          "output_type": "stream",
          "name": "stderr",
          "text": [
            "[Parallel(n_jobs=1)]: Done   5 out of   5 | elapsed:   55.1s remaining:    0.0s\n"
          ]
        },
        {
          "output_type": "stream",
          "name": "stdout",
          "text": [
            "[CV]  activation_function=relu, init=normal, score=-17352.438, total=   9.0s\n",
            "[CV] activation_function=relu, init=zero .............................\n"
          ]
        },
        {
          "output_type": "stream",
          "name": "stderr",
          "text": [
            "[Parallel(n_jobs=1)]: Done   6 out of   6 | elapsed:  1.1min remaining:    0.0s\n"
          ]
        },
        {
          "output_type": "stream",
          "name": "stdout",
          "text": [
            "[CV]  activation_function=relu, init=zero, score=-17763.020, total=   8.8s\n",
            "[CV] activation_function=relu, init=zero .............................\n"
          ]
        },
        {
          "output_type": "stream",
          "name": "stderr",
          "text": [
            "[Parallel(n_jobs=1)]: Done   7 out of   7 | elapsed:  1.2min remaining:    0.0s\n"
          ]
        },
        {
          "output_type": "stream",
          "name": "stdout",
          "text": [
            "[CV]  activation_function=relu, init=zero, score=-18856.822, total=   9.0s\n",
            "[CV] activation_function=relu, init=zero .............................\n"
          ]
        },
        {
          "output_type": "stream",
          "name": "stderr",
          "text": [
            "[Parallel(n_jobs=1)]: Done   8 out of   8 | elapsed:  1.4min remaining:    0.0s\n"
          ]
        },
        {
          "output_type": "stream",
          "name": "stdout",
          "text": [
            "[CV]  activation_function=relu, init=zero, score=-17353.938, total=   8.9s\n",
            "[CV] activation_function=maxout, init=uniform ........................\n",
            "[CV]  activation_function=maxout, init=uniform, score=nan, total=   0.0s\n",
            "[CV] activation_function=maxout, init=uniform ........................\n",
            "[CV]  activation_function=maxout, init=uniform, score=nan, total=   0.0s\n",
            "[CV] activation_function=maxout, init=uniform ........................\n",
            "[CV]  activation_function=maxout, init=uniform, score=nan, total=   0.0s\n",
            "[CV] activation_function=maxout, init=normal .........................\n",
            "[CV]  activation_function=maxout, init=normal, score=nan, total=   0.0s\n",
            "[CV] activation_function=maxout, init=normal .........................\n",
            "[CV]  activation_function=maxout, init=normal, score=nan, total=   0.0s\n",
            "[CV] activation_function=maxout, init=normal .........................\n",
            "[CV]  activation_function=maxout, init=normal, score=nan, total=   0.0s\n",
            "[CV] activation_function=maxout, init=zero ...........................\n",
            "[CV] . activation_function=maxout, init=zero, score=nan, total=   0.0s\n",
            "[CV] activation_function=maxout, init=zero ...........................\n",
            "[CV] . activation_function=maxout, init=zero, score=nan, total=   0.0s\n",
            "[CV] activation_function=maxout, init=zero ...........................\n",
            "[CV] . activation_function=maxout, init=zero, score=nan, total=   0.0s\n",
            "[CV] activation_function=elu, init=uniform ...........................\n"
          ]
        },
        {
          "output_type": "stream",
          "name": "stderr",
          "text": [
            "[Parallel(n_jobs=1)]: Done   9 out of   9 | elapsed:  1.5min remaining:    0.0s\n",
            "/usr/local/lib/python3.7/dist-packages/sklearn/model_selection/_validation.py:536: FitFailedWarning: Estimator fit failed. The score on this train-test partition for these parameters will be set to nan. Details: \n",
            "ValueError: Unknown activation function: maxout. Please ensure this object is passed to the `custom_objects` argument. See https://www.tensorflow.org/guide/keras/save_and_serialize#registering_the_custom_object for details.\n",
            "\n",
            "  FitFailedWarning)\n"
          ]
        },
        {
          "output_type": "stream",
          "name": "stdout",
          "text": [
            "[CV]  activation_function=elu, init=uniform, score=-17761.498, total=   9.1s\n",
            "[CV] activation_function=elu, init=uniform ...........................\n",
            "[CV]  activation_function=elu, init=uniform, score=-18855.252, total=   8.9s\n",
            "[CV] activation_function=elu, init=uniform ...........................\n",
            "[CV]  activation_function=elu, init=uniform, score=-17352.438, total=  10.9s\n",
            "[CV] activation_function=elu, init=normal ............................\n",
            "[CV]  activation_function=elu, init=normal, score=-17761.498, total=   9.1s\n",
            "[CV] activation_function=elu, init=normal ............................\n",
            "[CV]  activation_function=elu, init=normal, score=-18855.252, total=   8.9s\n",
            "[CV] activation_function=elu, init=normal ............................\n",
            "[CV]  activation_function=elu, init=normal, score=-17352.438, total=  10.9s\n",
            "[CV] activation_function=elu, init=zero ..............................\n",
            "[CV]  activation_function=elu, init=zero, score=-17761.500, total=   9.0s\n",
            "[CV] activation_function=elu, init=zero ..............................\n",
            "[CV]  activation_function=elu, init=zero, score=-18855.252, total=  10.9s\n",
            "[CV] activation_function=elu, init=zero ..............................\n",
            "[CV]  activation_function=elu, init=zero, score=-17352.438, total=   9.0s\n",
            "[CV] activation_function=tanh, init=uniform ..........................\n",
            "[CV]  activation_function=tanh, init=uniform, score=-17761.506, total=   8.9s\n",
            "[CV] activation_function=tanh, init=uniform ..........................\n",
            "[CV]  activation_function=tanh, init=uniform, score=-18855.262, total=   8.7s\n",
            "[CV] activation_function=tanh, init=uniform ..........................\n",
            "[CV]  activation_function=tanh, init=uniform, score=-17352.449, total=   8.8s\n",
            "[CV] activation_function=tanh, init=normal ...........................\n",
            "[CV]  activation_function=tanh, init=normal, score=-17761.506, total=   8.6s\n",
            "[CV] activation_function=tanh, init=normal ...........................\n",
            "[CV]  activation_function=tanh, init=normal, score=-18855.262, total=   9.3s\n",
            "[CV] activation_function=tanh, init=normal ...........................\n",
            "[CV]  activation_function=tanh, init=normal, score=-17352.449, total=   8.9s\n",
            "[CV] activation_function=tanh, init=zero .............................\n",
            "[CV]  activation_function=tanh, init=zero, score=-17761.506, total=  10.9s\n",
            "[CV] activation_function=tanh, init=zero .............................\n",
            "[CV]  activation_function=tanh, init=zero, score=-18855.262, total=   8.9s\n",
            "[CV] activation_function=tanh, init=zero .............................\n",
            "[CV]  activation_function=tanh, init=zero, score=-17352.447, total=  10.9s\n",
            "[CV] activation_function=sigmoid, init=uniform .......................\n",
            "[CV]  activation_function=sigmoid, init=uniform, score=-17761.518, total=   8.8s\n",
            "[CV] activation_function=sigmoid, init=uniform .......................\n",
            "[CV]  activation_function=sigmoid, init=uniform, score=-18855.271, total=  10.9s\n",
            "[CV] activation_function=sigmoid, init=uniform .......................\n",
            "[CV]  activation_function=sigmoid, init=uniform, score=-17352.459, total=   8.9s\n",
            "[CV] activation_function=sigmoid, init=normal ........................\n",
            "[CV]  activation_function=sigmoid, init=normal, score=-17761.518, total=   8.6s\n",
            "[CV] activation_function=sigmoid, init=normal ........................\n",
            "[CV]  activation_function=sigmoid, init=normal, score=-18855.270, total=  10.9s\n",
            "[CV] activation_function=sigmoid, init=normal ........................\n",
            "[CV]  activation_function=sigmoid, init=normal, score=-17352.459, total=  10.9s\n",
            "[CV] activation_function=sigmoid, init=zero ..........................\n",
            "[CV]  activation_function=sigmoid, init=zero, score=-17761.518, total=  11.4s\n",
            "[CV] activation_function=sigmoid, init=zero ..........................\n",
            "[CV]  activation_function=sigmoid, init=zero, score=-18855.271, total=   9.1s\n",
            "[CV] activation_function=sigmoid, init=zero ..........................\n",
            "[CV]  activation_function=sigmoid, init=zero, score=-17352.459, total=   9.0s\n"
          ]
        },
        {
          "output_type": "stream",
          "name": "stderr",
          "text": [
            "[Parallel(n_jobs=1)]: Done  45 out of  45 | elapsed:  5.8min finished\n"
          ]
        },
        {
          "output_type": "execute_result",
          "data": {
            "text/plain": [
              "GridSearchCV(cv=KFold(n_splits=3, random_state=None, shuffle=False),\n",
              "             error_score=nan,\n",
              "             estimator=<keras.wrappers.scikit_learn.KerasRegressor object at 0x7f1f28435490>,\n",
              "             iid='deprecated', n_jobs=None,\n",
              "             param_grid={'activation_function': ['relu', 'maxout', 'elu',\n",
              "                                                 'tanh', 'sigmoid'],\n",
              "                         'init': ['uniform', 'normal', 'zero']},\n",
              "             pre_dispatch='2*n_jobs', refit=True, return_train_score=False,\n",
              "             scoring=None, verbose=10)"
            ]
          },
          "metadata": {},
          "execution_count": 24
        }
      ]
    },
    {
      "cell_type": "code",
      "metadata": {
        "colab": {
          "base_uri": "https://localhost:8080/"
        },
        "id": "6YZMjSaLDDyP",
        "outputId": "6b79e52b-a99a-4c6f-ef47-d1e12c59e424"
      },
      "source": [
        "print('Best: {} with: {}'.format(grid.best_score_ , grid.best_params_))\n",
        "\n"
      ],
      "execution_count": 25,
      "outputs": [
        {
          "output_type": "stream",
          "name": "stdout",
          "text": [
            "Best: -17989.729166666668 with: {'activation_function': 'relu', 'init': 'uniform'}\n"
          ]
        }
      ]
    },
    {
      "cell_type": "code",
      "metadata": {
        "id": "xD-ZAwtdElRd"
      },
      "source": [
        "means3 = grid.cv_results_['mean_test_score']"
      ],
      "execution_count": 26,
      "outputs": []
    },
    {
      "cell_type": "code",
      "metadata": {
        "colab": {
          "base_uri": "https://localhost:8080/"
        },
        "id": "8xPwGpmnEmc9",
        "outputId": "ed7f192e-78d7-4a3f-f385-8bd2bbca40cb"
      },
      "source": [
        "means3\n"
      ],
      "execution_count": 27,
      "outputs": [
        {
          "output_type": "execute_result",
          "data": {
            "text/plain": [
              "array([-17989.72916667, -17989.72916667, -17991.25976562,             nan,\n",
              "                   nan,             nan, -17989.72916667, -17989.72916667,\n",
              "       -17989.72981771, -17989.73893229, -17989.73893229, -17989.73828125,\n",
              "       -17989.74934896, -17989.74869792, -17989.74934896])"
            ]
          },
          "metadata": {},
          "execution_count": 27
        }
      ]
    },
    {
      "cell_type": "code",
      "metadata": {
        "id": "Ltx_XV5YEoeK"
      },
      "source": [
        "#Neurons model"
      ],
      "execution_count": 28,
      "outputs": []
    },
    {
      "cell_type": "code",
      "metadata": {
        "id": "-QSf63LYEtG7"
      },
      "source": [
        "def create_model4(neuron1,neuron2):\n",
        "    model4 = Sequential()\n",
        "    model4.add(Dense(8,input_dim = 10,kernel_initializer = 'normal', activation = 'relu'))\n",
        "    model4.add(Dropout(0.1))\n",
        "    model4.add(Dense(5,kernel_initializer = 'normal', activation = 'relu'))\n",
        "    model4.add(Dropout(0.1))\n",
        "    model4.add(Dense(1,kernel_initializer = 'normal', activation = 'relu'))\n",
        "    \n",
        "    adam = Adam(lr = 0.001)\n",
        "    model4.compile(loss = 'mean_squared_error', optimizer = 'adam', metrics = ['accuracy'])\n",
        "    return model4\n",
        "\n"
      ],
      "execution_count": 29,
      "outputs": []
    },
    {
      "cell_type": "code",
      "metadata": {
        "colab": {
          "base_uri": "https://localhost:8080/"
        },
        "id": "8dFKKR0UE7OQ",
        "outputId": "18346313-1a80-474c-f68b-74615bca91fe"
      },
      "source": [
        "model4 = KerasRegressor(build_fn = create_model4,batch_size = 80, epochs = 70, verbose = 0)\n",
        "param_grid = dict(neuron1 = [5,8,10], neuron2 = [2,3,5])\n",
        "\n",
        "grid = GridSearchCV(estimator = model4, param_grid = param_grid, cv = KFold(), verbose = 10)\n",
        "grid.fit(x_scaler,y)"
      ],
      "execution_count": 30,
      "outputs": [
        {
          "output_type": "stream",
          "name": "stdout",
          "text": [
            "Fitting 5 folds for each of 9 candidates, totalling 45 fits\n",
            "[CV] neuron1=5, neuron2=2 ............................................\n"
          ]
        },
        {
          "output_type": "stream",
          "name": "stderr",
          "text": [
            "[Parallel(n_jobs=1)]: Using backend SequentialBackend with 1 concurrent workers.\n",
            "/usr/local/lib/python3.7/dist-packages/keras/optimizer_v2/optimizer_v2.py:356: UserWarning: The `lr` argument is deprecated, use `learning_rate` instead.\n",
            "  \"The `lr` argument is deprecated, use `learning_rate` instead.\")\n"
          ]
        },
        {
          "output_type": "stream",
          "name": "stdout",
          "text": [
            "[CV] .............. neuron1=5, neuron2=2, score=-23.402, total=  10.6s\n",
            "[CV] neuron1=5, neuron2=2 ............................................\n"
          ]
        },
        {
          "output_type": "stream",
          "name": "stderr",
          "text": [
            "[Parallel(n_jobs=1)]: Done   1 out of   1 | elapsed:   10.6s remaining:    0.0s\n"
          ]
        },
        {
          "output_type": "stream",
          "name": "stdout",
          "text": [
            "[CV] .............. neuron1=5, neuron2=2, score=-14.527, total=  10.5s\n",
            "[CV] neuron1=5, neuron2=2 ............................................\n"
          ]
        },
        {
          "output_type": "stream",
          "name": "stderr",
          "text": [
            "[Parallel(n_jobs=1)]: Done   2 out of   2 | elapsed:   21.1s remaining:    0.0s\n"
          ]
        },
        {
          "output_type": "stream",
          "name": "stdout",
          "text": [
            "[CV] .............. neuron1=5, neuron2=2, score=-19.618, total=  10.5s\n",
            "[CV] neuron1=5, neuron2=2 ............................................\n"
          ]
        },
        {
          "output_type": "stream",
          "name": "stderr",
          "text": [
            "[Parallel(n_jobs=1)]: Done   3 out of   3 | elapsed:   31.6s remaining:    0.0s\n"
          ]
        },
        {
          "output_type": "stream",
          "name": "stdout",
          "text": [
            "[CV] .............. neuron1=5, neuron2=2, score=-32.695, total=  10.0s\n",
            "[CV] neuron1=5, neuron2=2 ............................................\n"
          ]
        },
        {
          "output_type": "stream",
          "name": "stderr",
          "text": [
            "[Parallel(n_jobs=1)]: Done   4 out of   4 | elapsed:   41.6s remaining:    0.0s\n"
          ]
        },
        {
          "output_type": "stream",
          "name": "stdout",
          "text": [
            "[CV] .............. neuron1=5, neuron2=2, score=-11.101, total=  10.9s\n",
            "[CV] neuron1=5, neuron2=3 ............................................\n"
          ]
        },
        {
          "output_type": "stream",
          "name": "stderr",
          "text": [
            "[Parallel(n_jobs=1)]: Done   5 out of   5 | elapsed:   52.6s remaining:    0.0s\n"
          ]
        },
        {
          "output_type": "stream",
          "name": "stdout",
          "text": [
            "[CV] .............. neuron1=5, neuron2=3, score=-24.169, total=  10.4s\n",
            "[CV] neuron1=5, neuron2=3 ............................................\n"
          ]
        },
        {
          "output_type": "stream",
          "name": "stderr",
          "text": [
            "[Parallel(n_jobs=1)]: Done   6 out of   6 | elapsed:  1.0min remaining:    0.0s\n"
          ]
        },
        {
          "output_type": "stream",
          "name": "stdout",
          "text": [
            "[CV] .............. neuron1=5, neuron2=3, score=-12.454, total=  11.3s\n",
            "[CV] neuron1=5, neuron2=3 ............................................\n"
          ]
        },
        {
          "output_type": "stream",
          "name": "stderr",
          "text": [
            "[Parallel(n_jobs=1)]: Done   7 out of   7 | elapsed:  1.2min remaining:    0.0s\n"
          ]
        },
        {
          "output_type": "stream",
          "name": "stdout",
          "text": [
            "[CV] .............. neuron1=5, neuron2=3, score=-24.843, total=  10.5s\n",
            "[CV] neuron1=5, neuron2=3 ............................................\n"
          ]
        },
        {
          "output_type": "stream",
          "name": "stderr",
          "text": [
            "[Parallel(n_jobs=1)]: Done   8 out of   8 | elapsed:  1.4min remaining:    0.0s\n"
          ]
        },
        {
          "output_type": "stream",
          "name": "stdout",
          "text": [
            "[CV] .............. neuron1=5, neuron2=3, score=-23.944, total=  11.0s\n",
            "[CV] neuron1=5, neuron2=3 ............................................\n"
          ]
        },
        {
          "output_type": "stream",
          "name": "stderr",
          "text": [
            "[Parallel(n_jobs=1)]: Done   9 out of   9 | elapsed:  1.6min remaining:    0.0s\n"
          ]
        },
        {
          "output_type": "stream",
          "name": "stdout",
          "text": [
            "[CV] .............. neuron1=5, neuron2=3, score=-26.051, total=  10.5s\n",
            "[CV] neuron1=5, neuron2=5 ............................................\n",
            "[CV] .............. neuron1=5, neuron2=5, score=-23.173, total=  10.6s\n",
            "[CV] neuron1=5, neuron2=5 ............................................\n",
            "[CV] .............. neuron1=5, neuron2=5, score=-15.272, total=  10.5s\n",
            "[CV] neuron1=5, neuron2=5 ............................................\n",
            "[CV] .............. neuron1=5, neuron2=5, score=-23.700, total=  10.9s\n",
            "[CV] neuron1=5, neuron2=5 ............................................\n",
            "[CV] .............. neuron1=5, neuron2=5, score=-49.370, total=  11.0s\n",
            "[CV] neuron1=5, neuron2=5 ............................................\n",
            "[CV] .............. neuron1=5, neuron2=5, score=-36.183, total=  10.4s\n",
            "[CV] neuron1=8, neuron2=2 ............................................\n",
            "[CV] .............. neuron1=8, neuron2=2, score=-19.800, total=  10.9s\n",
            "[CV] neuron1=8, neuron2=2 ............................................\n",
            "[CV] .............. neuron1=8, neuron2=2, score=-16.459, total=  11.4s\n",
            "[CV] neuron1=8, neuron2=2 ............................................\n",
            "[CV] .............. neuron1=8, neuron2=2, score=-21.204, total=  10.9s\n",
            "[CV] neuron1=8, neuron2=2 ............................................\n",
            "[CV] .............. neuron1=8, neuron2=2, score=-29.382, total=  11.0s\n",
            "[CV] neuron1=8, neuron2=2 ............................................\n",
            "[CV] .............. neuron1=8, neuron2=2, score=-24.126, total=  10.6s\n",
            "[CV] neuron1=8, neuron2=3 ............................................\n",
            "[CV] .............. neuron1=8, neuron2=3, score=-29.467, total=  10.9s\n",
            "[CV] neuron1=8, neuron2=3 ............................................\n",
            "[CV] .............. neuron1=8, neuron2=3, score=-18.372, total=  10.9s\n",
            "[CV] neuron1=8, neuron2=3 ............................................\n",
            "[CV] .............. neuron1=8, neuron2=3, score=-21.187, total=  11.0s\n",
            "[CV] neuron1=8, neuron2=3 ............................................\n",
            "[CV] .............. neuron1=8, neuron2=3, score=-16.780, total=  10.9s\n",
            "[CV] neuron1=8, neuron2=3 ............................................\n",
            "[CV] .............. neuron1=8, neuron2=3, score=-19.826, total=  10.9s\n",
            "[CV] neuron1=8, neuron2=5 ............................................\n",
            "[CV] .............. neuron1=8, neuron2=5, score=-35.193, total=  10.4s\n",
            "[CV] neuron1=8, neuron2=5 ............................................\n",
            "[CV] ........... neuron1=8, neuron2=5, score=-16974.523, total=  10.6s\n",
            "[CV] neuron1=8, neuron2=5 ............................................\n",
            "[CV] .............. neuron1=8, neuron2=5, score=-37.910, total=  11.1s\n",
            "[CV] neuron1=8, neuron2=5 ............................................\n",
            "[CV] .............. neuron1=8, neuron2=5, score=-17.473, total=  10.4s\n",
            "[CV] neuron1=8, neuron2=5 ............................................\n",
            "[CV] .............. neuron1=8, neuron2=5, score=-28.722, total=  10.6s\n",
            "[CV] neuron1=10, neuron2=2 ...........................................\n",
            "[CV] ............. neuron1=10, neuron2=2, score=-17.670, total=  11.0s\n",
            "[CV] neuron1=10, neuron2=2 ...........................................\n",
            "[CV] ............. neuron1=10, neuron2=2, score=-29.443, total=  11.0s\n",
            "[CV] neuron1=10, neuron2=2 ...........................................\n",
            "[CV] ............. neuron1=10, neuron2=2, score=-45.097, total=  10.5s\n",
            "[CV] neuron1=10, neuron2=2 ...........................................\n",
            "[CV] ............. neuron1=10, neuron2=2, score=-17.602, total=  10.9s\n",
            "[CV] neuron1=10, neuron2=2 ...........................................\n",
            "[CV] ............. neuron1=10, neuron2=2, score=-29.549, total=  10.4s\n",
            "[CV] neuron1=10, neuron2=3 ...........................................\n",
            "[CV] ............. neuron1=10, neuron2=3, score=-32.191, total=  10.6s\n",
            "[CV] neuron1=10, neuron2=3 ...........................................\n",
            "[CV] ............. neuron1=10, neuron2=3, score=-34.508, total=  11.0s\n",
            "[CV] neuron1=10, neuron2=3 ...........................................\n",
            "[CV] ............. neuron1=10, neuron2=3, score=-19.005, total=  11.4s\n",
            "[CV] neuron1=10, neuron2=3 ...........................................\n",
            "[CV] ............. neuron1=10, neuron2=3, score=-31.190, total=  11.0s\n",
            "[CV] neuron1=10, neuron2=3 ...........................................\n",
            "[CV] ............. neuron1=10, neuron2=3, score=-23.700, total=  10.5s\n",
            "[CV] neuron1=10, neuron2=5 ...........................................\n",
            "[CV] ............. neuron1=10, neuron2=5, score=-27.252, total=  10.4s\n",
            "[CV] neuron1=10, neuron2=5 ...........................................\n",
            "[CV] ............. neuron1=10, neuron2=5, score=-15.272, total=  10.6s\n",
            "[CV] neuron1=10, neuron2=5 ...........................................\n",
            "[CV] ............. neuron1=10, neuron2=5, score=-21.719, total=  10.9s\n",
            "[CV] neuron1=10, neuron2=5 ...........................................\n",
            "[CV] ............. neuron1=10, neuron2=5, score=-29.379, total=  10.9s\n",
            "[CV] neuron1=10, neuron2=5 ...........................................\n",
            "[CV] ............. neuron1=10, neuron2=5, score=-28.866, total=  10.7s\n"
          ]
        },
        {
          "output_type": "stream",
          "name": "stderr",
          "text": [
            "[Parallel(n_jobs=1)]: Done  45 out of  45 | elapsed:  8.1min finished\n"
          ]
        },
        {
          "output_type": "execute_result",
          "data": {
            "text/plain": [
              "GridSearchCV(cv=KFold(n_splits=5, random_state=None, shuffle=False),\n",
              "             error_score=nan,\n",
              "             estimator=<keras.wrappers.scikit_learn.KerasRegressor object at 0x7f1f285168d0>,\n",
              "             iid='deprecated', n_jobs=None,\n",
              "             param_grid={'neuron1': [5, 8, 10], 'neuron2': [2, 3, 5]},\n",
              "             pre_dispatch='2*n_jobs', refit=True, return_train_score=False,\n",
              "             scoring=None, verbose=10)"
            ]
          },
          "metadata": {},
          "execution_count": 30
        }
      ]
    },
    {
      "cell_type": "code",
      "metadata": {
        "colab": {
          "base_uri": "https://localhost:8080/"
        },
        "id": "dOtZj5uLE72_",
        "outputId": "1eb988f3-c2b1-4998-c95c-f812cd46bfe1"
      },
      "source": [
        "print('Best: {} with: {}'.format(grid.best_score_ , grid.best_params_))\n",
        "\n"
      ],
      "execution_count": 31,
      "outputs": [
        {
          "output_type": "stream",
          "name": "stdout",
          "text": [
            "Best: -20.268728256225586 with: {'neuron1': 5, 'neuron2': 2}\n"
          ]
        }
      ]
    },
    {
      "cell_type": "code",
      "metadata": {
        "colab": {
          "base_uri": "https://localhost:8080/"
        },
        "id": "xwsqPX64HguJ",
        "outputId": "43c713f8-083e-4d5b-c2ed-e5c9cfff0021"
      },
      "source": [
        "means4 = grid.cv_results_['mean_test_score']\n",
        "means4"
      ],
      "execution_count": 32,
      "outputs": [
        {
          "output_type": "execute_result",
          "data": {
            "text/plain": [
              "array([  -20.26872826,   -22.29216633,   -29.53963509,   -22.1941021 ,\n",
              "         -21.12636414, -3418.76421204,   -27.87212715,   -28.11881905,\n",
              "         -24.49733315])"
            ]
          },
          "metadata": {},
          "execution_count": 32
        }
      ]
    },
    {
      "cell_type": "code",
      "metadata": {
        "id": "lRoG_Bw0HiAg"
      },
      "source": [
        "#training and testing on the data\n",
        "from sklearn.model_selection import train_test_split\n",
        "x_train,x_test,y_train,y_test = train_test_split(x,y,test_size = 0.3, random_state = 101)"
      ],
      "execution_count": 33,
      "outputs": []
    },
    {
      "cell_type": "code",
      "metadata": {
        "id": "rP408NOQHtjV"
      },
      "source": [
        "x_train_scaler = scaler.fit_transform(x_train)\n",
        "x_test_scaler = scaler.fit_transform(x_test)"
      ],
      "execution_count": 34,
      "outputs": []
    },
    {
      "cell_type": "code",
      "metadata": {
        "colab": {
          "base_uri": "https://localhost:8080/"
        },
        "id": "698r4416H4iO",
        "outputId": "9f3e3881-29b6-4a5c-8b8b-1127daad1f61"
      },
      "source": [
        "# building final model\n",
        "model_final = Sequential()\n",
        "model_final.add(Dense(5,input_dim = 10, kernel_initializer = 'uniform', activation = 'relu'))\n",
        "model_final.add(Dense(3,kernel_initializer = 'uniform', activation = 'relu'))\n",
        "model_final.add(Dense(1,kernel_initializer = 'uniform', activation = 'relu'))\n",
        "\n",
        "adam = Adam(lr = 0.001)    \n",
        "model_final.compile(optimizer='adam',loss='mse')\n",
        "model_final.fit(x_train_scaler,y_train, epochs = 70, batch_size = 80)"
      ],
      "execution_count": 38,
      "outputs": [
        {
          "output_type": "stream",
          "name": "stderr",
          "text": [
            "/usr/local/lib/python3.7/dist-packages/keras/optimizer_v2/optimizer_v2.py:356: UserWarning: The `lr` argument is deprecated, use `learning_rate` instead.\n",
            "  \"The `lr` argument is deprecated, use `learning_rate` instead.\")\n"
          ]
        },
        {
          "output_type": "stream",
          "name": "stdout",
          "text": [
            "Epoch 1/70\n",
            "132/132 [==============================] - 1s 1ms/step - loss: 18212.8027\n",
            "Epoch 2/70\n",
            "132/132 [==============================] - 0s 1ms/step - loss: 17640.4238\n",
            "Epoch 3/70\n",
            "132/132 [==============================] - 0s 1ms/step - loss: 15525.8623\n",
            "Epoch 4/70\n",
            "132/132 [==============================] - 0s 1ms/step - loss: 11644.6348\n",
            "Epoch 5/70\n",
            "132/132 [==============================] - 0s 1ms/step - loss: 7311.1450\n",
            "Epoch 6/70\n",
            "132/132 [==============================] - 0s 1ms/step - loss: 4218.7192\n",
            "Epoch 7/70\n",
            "132/132 [==============================] - 0s 1ms/step - loss: 2541.5664\n",
            "Epoch 8/70\n",
            "132/132 [==============================] - 0s 1ms/step - loss: 1624.1338\n",
            "Epoch 9/70\n",
            "132/132 [==============================] - 0s 1ms/step - loss: 1087.2485\n",
            "Epoch 10/70\n",
            "132/132 [==============================] - 0s 1ms/step - loss: 768.8735\n",
            "Epoch 11/70\n",
            "132/132 [==============================] - 0s 1ms/step - loss: 582.7725\n",
            "Epoch 12/70\n",
            "132/132 [==============================] - 0s 1ms/step - loss: 473.6443\n",
            "Epoch 13/70\n",
            "132/132 [==============================] - 0s 1ms/step - loss: 405.9527\n",
            "Epoch 14/70\n",
            "132/132 [==============================] - 0s 1ms/step - loss: 359.7884\n",
            "Epoch 15/70\n",
            "132/132 [==============================] - 0s 1ms/step - loss: 325.0815\n",
            "Epoch 16/70\n",
            "132/132 [==============================] - 0s 1ms/step - loss: 297.1342\n",
            "Epoch 17/70\n",
            "132/132 [==============================] - 0s 1ms/step - loss: 273.7858\n",
            "Epoch 18/70\n",
            "132/132 [==============================] - 0s 1ms/step - loss: 253.5960\n",
            "Epoch 19/70\n",
            "132/132 [==============================] - 0s 1ms/step - loss: 235.8839\n",
            "Epoch 20/70\n",
            "132/132 [==============================] - 0s 1ms/step - loss: 220.2924\n",
            "Epoch 21/70\n",
            "132/132 [==============================] - 0s 1ms/step - loss: 206.3155\n",
            "Epoch 22/70\n",
            "132/132 [==============================] - 0s 1ms/step - loss: 193.6673\n",
            "Epoch 23/70\n",
            "132/132 [==============================] - 0s 1ms/step - loss: 181.9337\n",
            "Epoch 24/70\n",
            "132/132 [==============================] - 0s 1ms/step - loss: 171.2665\n",
            "Epoch 25/70\n",
            "132/132 [==============================] - 0s 1ms/step - loss: 161.3304\n",
            "Epoch 26/70\n",
            "132/132 [==============================] - 0s 1ms/step - loss: 151.9604\n",
            "Epoch 27/70\n",
            "132/132 [==============================] - 0s 1ms/step - loss: 143.2288\n",
            "Epoch 28/70\n",
            "132/132 [==============================] - 0s 1ms/step - loss: 134.9894\n",
            "Epoch 29/70\n",
            "132/132 [==============================] - 0s 1ms/step - loss: 127.0456\n",
            "Epoch 30/70\n",
            "132/132 [==============================] - 0s 1ms/step - loss: 119.5103\n",
            "Epoch 31/70\n",
            "132/132 [==============================] - 0s 1ms/step - loss: 112.3935\n",
            "Epoch 32/70\n",
            "132/132 [==============================] - 0s 1ms/step - loss: 105.5018\n",
            "Epoch 33/70\n",
            "132/132 [==============================] - 0s 1ms/step - loss: 98.9347\n",
            "Epoch 34/70\n",
            "132/132 [==============================] - 0s 1ms/step - loss: 92.6720\n",
            "Epoch 35/70\n",
            "132/132 [==============================] - 0s 1ms/step - loss: 86.6503\n",
            "Epoch 36/70\n",
            "132/132 [==============================] - 0s 1ms/step - loss: 80.9863\n",
            "Epoch 37/70\n",
            "132/132 [==============================] - 0s 1ms/step - loss: 75.5833\n",
            "Epoch 38/70\n",
            "132/132 [==============================] - 0s 1ms/step - loss: 70.5073\n",
            "Epoch 39/70\n",
            "132/132 [==============================] - 0s 1ms/step - loss: 65.5643\n",
            "Epoch 40/70\n",
            "132/132 [==============================] - 0s 1ms/step - loss: 60.7480\n",
            "Epoch 41/70\n",
            "132/132 [==============================] - 0s 1ms/step - loss: 56.1350\n",
            "Epoch 42/70\n",
            "132/132 [==============================] - 0s 1ms/step - loss: 51.8386\n",
            "Epoch 43/70\n",
            "132/132 [==============================] - 0s 1ms/step - loss: 47.8922\n",
            "Epoch 44/70\n",
            "132/132 [==============================] - 0s 1ms/step - loss: 44.2989\n",
            "Epoch 45/70\n",
            "132/132 [==============================] - 0s 1ms/step - loss: 40.8843\n",
            "Epoch 46/70\n",
            "132/132 [==============================] - 0s 1ms/step - loss: 37.8169\n",
            "Epoch 47/70\n",
            "132/132 [==============================] - 0s 1ms/step - loss: 34.9981\n",
            "Epoch 48/70\n",
            "132/132 [==============================] - 0s 1ms/step - loss: 32.3129\n",
            "Epoch 49/70\n",
            "132/132 [==============================] - 0s 1ms/step - loss: 29.8073\n",
            "Epoch 50/70\n",
            "132/132 [==============================] - 0s 1ms/step - loss: 27.4753\n",
            "Epoch 51/70\n",
            "132/132 [==============================] - 0s 1ms/step - loss: 25.3726\n",
            "Epoch 52/70\n",
            "132/132 [==============================] - 0s 1ms/step - loss: 23.4192\n",
            "Epoch 53/70\n",
            "132/132 [==============================] - 0s 1ms/step - loss: 21.5115\n",
            "Epoch 54/70\n",
            "132/132 [==============================] - 0s 1ms/step - loss: 19.7485\n",
            "Epoch 55/70\n",
            "132/132 [==============================] - 0s 1ms/step - loss: 18.1238\n",
            "Epoch 56/70\n",
            "132/132 [==============================] - 0s 1ms/step - loss: 16.6205\n",
            "Epoch 57/70\n",
            "132/132 [==============================] - 0s 1ms/step - loss: 15.1965\n",
            "Epoch 58/70\n",
            "132/132 [==============================] - 0s 1ms/step - loss: 13.9551\n",
            "Epoch 59/70\n",
            "132/132 [==============================] - 0s 1ms/step - loss: 12.7933\n",
            "Epoch 60/70\n",
            "132/132 [==============================] - 0s 1ms/step - loss: 11.6582\n",
            "Epoch 61/70\n",
            "132/132 [==============================] - 0s 1ms/step - loss: 10.5109\n",
            "Epoch 62/70\n",
            "132/132 [==============================] - 0s 1ms/step - loss: 9.4008\n",
            "Epoch 63/70\n",
            "132/132 [==============================] - 0s 1ms/step - loss: 8.3066\n",
            "Epoch 64/70\n",
            "132/132 [==============================] - 0s 1ms/step - loss: 7.2421\n",
            "Epoch 65/70\n",
            "132/132 [==============================] - 0s 1ms/step - loss: 6.2454\n",
            "Epoch 66/70\n",
            "132/132 [==============================] - 0s 1ms/step - loss: 5.3410\n",
            "Epoch 67/70\n",
            "132/132 [==============================] - 0s 1ms/step - loss: 4.5696\n",
            "Epoch 68/70\n",
            "132/132 [==============================] - 0s 1ms/step - loss: 3.9779\n",
            "Epoch 69/70\n",
            "132/132 [==============================] - 0s 1ms/step - loss: 3.5660\n",
            "Epoch 70/70\n",
            "132/132 [==============================] - 0s 1ms/step - loss: 3.2508\n"
          ]
        },
        {
          "output_type": "execute_result",
          "data": {
            "text/plain": [
              "<keras.callbacks.History at 0x7f1f24f79d90>"
            ]
          },
          "metadata": {},
          "execution_count": 38
        }
      ]
    },
    {
      "cell_type": "code",
      "metadata": {
        "colab": {
          "base_uri": "https://localhost:8080/"
        },
        "id": "lKQgH1JyIJ_T",
        "outputId": "7308f54b-e853-4274-955c-1a427f5c26d2"
      },
      "source": [
        "score = model_final.evaluate(x_test_scaler,y_test)\n"
      ],
      "execution_count": 40,
      "outputs": [
        {
          "output_type": "stream",
          "name": "stdout",
          "text": [
            "141/141 [==============================] - 0s 957us/step - loss: 2.8811\n"
          ]
        }
      ]
    },
    {
      "cell_type": "code",
      "metadata": {
        "id": "saJRnQ5VI1TX"
      },
      "source": [
        ""
      ],
      "execution_count": null,
      "outputs": []
    }
  ]
}